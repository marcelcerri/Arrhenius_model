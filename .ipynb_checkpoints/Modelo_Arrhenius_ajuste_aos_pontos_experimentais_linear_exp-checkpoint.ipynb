{
 "cells": [
  {
   "cell_type": "markdown",
   "metadata": {
    "colab_type": "text",
    "id": "_NNldyDZuMF3"
   },
   "source": [
    "# Ajustes linear da dados experimentais de Arrhenius"
   ]
  },
  {
   "cell_type": "code",
   "execution_count": 1,
   "metadata": {
    "colab": {},
    "colab_type": "code",
    "id": "vUVrpIi_EE4S"
   },
   "outputs": [],
   "source": [
    "# importando os pacotes do python\n",
    "import numpy as np\n",
    "from scipy.optimize import curve_fit\n",
    "import pandas as pd\n",
    "import matplotlib.pyplot as plt"
   ]
  },
  {
   "cell_type": "code",
   "execution_count": 2,
   "metadata": {},
   "outputs": [],
   "source": [
    "# Lendo o arquivo csv na pasta\n",
    "dados = pd.read_csv('Arrhenius.csv')"
   ]
  },
  {
   "cell_type": "code",
   "execution_count": 3,
   "metadata": {
    "colab": {},
    "colab_type": "code",
    "id": "UtnSNhM6JcKa"
   },
   "outputs": [],
   "source": [
    "#transformando data frame em vetor\n",
    "dados_np = dados.values"
   ]
  },
  {
   "cell_type": "code",
   "execution_count": 4,
   "metadata": {
    "colab": {
     "base_uri": "https://localhost:8080/",
     "height": 34
    },
    "colab_type": "code",
    "id": "LlKM8759JhUe",
    "outputId": "735849ca-2760-4784-dfe2-0f9b104084b3"
   },
   "outputs": [],
   "source": [
    "#vetor do eixo x\n",
    "x = 1/dados_np[:,0]"
   ]
  },
  {
   "cell_type": "code",
   "execution_count": 5,
   "metadata": {
    "colab": {
     "base_uri": "https://localhost:8080/",
     "height": 34
    },
    "colab_type": "code",
    "id": "mvO93ws0JjoI",
    "outputId": "dd73e187-88f1-4750-bd9c-5cd0aa502e16"
   },
   "outputs": [],
   "source": [
    "#vetor do eixo y\n",
    "y = np.log(dados_np[:,1])"
   ]
  },
  {
   "cell_type": "code",
   "execution_count": 6,
   "metadata": {
    "colab": {
     "base_uri": "https://localhost:8080/",
     "height": 34
    },
    "colab_type": "code",
    "id": "jGUganuoJqFZ",
    "outputId": "613d8aa2-f392-4abd-df29-d60d316fb3a0"
   },
   "outputs": [],
   "source": [
    "linear_p = np.polyfit(x, y, 1)"
   ]
  },
  {
   "cell_type": "code",
   "execution_count": 7,
   "metadata": {},
   "outputs": [
    {
     "name": "stdout",
     "output_type": "stream",
     "text": [
      "121481.5094181364\n"
     ]
    }
   ],
   "source": [
    "Ea = linear_p[0] *(-8.314) # Estimativa da energia de ativação em J /mol\n",
    "print(Ea)"
   ]
  },
  {
   "cell_type": "code",
   "execution_count": 20,
   "metadata": {},
   "outputs": [
    {
     "name": "stdout",
     "output_type": "stream",
     "text": [
      "8.030276391879293e+16\n"
     ]
    }
   ],
   "source": [
    "A = np.exp(linear_p[1]) # Fator de frequencia\n",
    "print (A)"
   ]
  },
  {
   "cell_type": "code",
   "execution_count": 8,
   "metadata": {
    "colab": {
     "base_uri": "https://localhost:8080/",
     "height": 376
    },
    "colab_type": "code",
    "id": "dG8Dyb2GJtTs",
    "outputId": "1d4ee51f-bcd8-4994-9804-1ecd760e8338"
   },
   "outputs": [
    {
     "data": {
      "image/png": "[encoded data removed]",
      "text/plain": [
       "<Figure size 432x288 with 1 Axes>"
      ]
     },
     "metadata": {
      "needs_background": "light"
     },
     "output_type": "display_data"
    }
   ],
   "source": [
    "#impressão dos dados experimentais e do modelo linear\n",
    "plt.plot(x, y, \"o\", label = \"pontos experimentais\")\n",
    "plt.plot(x, np.polyval(linear_p, x), \"-r\", label = \"modelo\")\n",
    "plt.xlabel(\"1 / Temperatura\")\n",
    "plt.ylabel(\"Log de k\")\n",
    "plt.rcParams['figure.figsize'] = (11,7)\n",
    "plt.title(\"Ajuste de uma reta\")\n",
    "plt.legend()\n",
    "plt.show()"
   ]
  },
  {
   "cell_type": "code",
   "execution_count": 11,
   "metadata": {
    "colab": {
     "base_uri": "https://localhost:8080/",
     "height": 34
    },
    "colab_type": "code",
    "id": "u57DQnIdukWl",
    "outputId": "9461a689-33dd-41e1-b3b8-a368aac5f949"
   },
   "outputs": [
    {
     "name": "stdout",
     "output_type": "stream",
     "text": [
      "0.9998570770329075\n"
     ]
    }
   ],
   "source": [
    "yfit = linear_p[0] * x + linear_p[1] # calcula os valores preditos\n",
    "yresid = y - yfit # resíduo = valor real - valor ajustado (valor predito)\n",
    "SQresid = sum(pow(yresid,2)) # soma dos quadrados dos resíduos \n",
    "SQtotal = len(y) * np.var(y) # número de elementos do vetor y vezes a variância de y\n",
    "R2 = 1 - SQresid/SQtotal # coeficiente de determinação\n",
    "print(R2) # imprime coeficiente de determinação\n"
   ]
  },
  {
   "cell_type": "code",
   "execution_count": 12,
   "metadata": {
    "colab": {
     "base_uri": "https://localhost:8080/",
     "height": 34
    },
    "colab_type": "code",
    "id": "ZE5RFEo-vY2b",
    "outputId": "01708834-2f21-427e-de9f-76c17e9a932f"
   },
   "outputs": [
    {
     "name": "stdout",
     "output_type": "stream",
     "text": [
      "__________________________________________________\n",
      "Ajuste Linear\n",
      "   Temperatura  velocidade_mod  velocidade_exp\n",
      "0        313.0        0.000427         0.00043\n",
      "1        319.0        0.001028         0.00103\n",
      "2        323.0        0.001813         0.00180\n",
      "3        328.0        0.003613         0.00355\n",
      "4        333.0        0.007053         0.00717\n",
      "A energia de ativação é:  121481.5 Joules/mol\n"
     ]
    },
    {
     "ename": "NameError",
     "evalue": "name 'A' is not defined",
     "output_type": "error",
     "traceback": [
      "\u001b[1;31m---------------------------------------------------------------------------\u001b[0m",
      "\u001b[1;31mNameError\u001b[0m                                 Traceback (most recent call last)",
      "\u001b[1;32m<ipython-input-12-5cf024d4ec06>\u001b[0m in \u001b[0;36m<module>\u001b[1;34m\u001b[0m\n\u001b[0;32m      7\u001b[0m \u001b[1;33m\u001b[0m\u001b[0m\n\u001b[0;32m      8\u001b[0m \u001b[0mprint\u001b[0m\u001b[1;33m(\u001b[0m\u001b[1;34mf'A energia de ativação é: {Ea:9.7} Joules/mol'\u001b[0m\u001b[1;33m)\u001b[0m\u001b[1;33m\u001b[0m\u001b[1;33m\u001b[0m\u001b[0m\n\u001b[1;32m----> 9\u001b[1;33m \u001b[0mprint\u001b[0m\u001b[1;33m(\u001b[0m\u001b[1;34mf'O fator de frequencia é: {A:9.5} dm^3/mol.s'\u001b[0m\u001b[1;33m)\u001b[0m\u001b[1;33m\u001b[0m\u001b[1;33m\u001b[0m\u001b[0m\n\u001b[0m\u001b[0;32m     10\u001b[0m \u001b[0mprint\u001b[0m\u001b[1;33m(\u001b[0m\u001b[1;34mf'O Coeficiente de ajuste é: {r2:5.5}'\u001b[0m\u001b[1;33m)\u001b[0m\u001b[1;33m\u001b[0m\u001b[1;33m\u001b[0m\u001b[0m\n\u001b[0;32m     11\u001b[0m \u001b[0mprint\u001b[0m\u001b[1;33m(\u001b[0m\u001b[1;36m50\u001b[0m\u001b[1;33m*\u001b[0m\u001b[1;34m\"_\"\u001b[0m\u001b[1;33m)\u001b[0m\u001b[1;33m\u001b[0m\u001b[1;33m\u001b[0m\u001b[0m\n",
      "\u001b[1;31mNameError\u001b[0m: name 'A' is not defined"
     ]
    }
   ],
   "source": [
    "print(50*\"_\")\n",
    "print('Ajuste Linear')\n",
    "#dados do modelo ajustado\n",
    "dados_v = np.transpose(np.exp(yfit))\n",
    "dados_df = pd.DataFrame({\"Temperatura\":dados_np[:,0], \"velocidade_mod\":dados_v, \"velocidade_exp\":dados_np[:,1]})\n",
    "print(dados_df)\n",
    "\n",
    "print(f'A energia de ativação é: {Ea:9.7} Joules/mol')\n",
    "print(f'O fator de frequencia é: {A:9.5} dm^3/mol.s')\n",
    "print(f'O Coeficiente de ajuste é: {r2:5.5}')\n",
    "print(50*\"_\")\n"
   ]
  },
  {
   "cell_type": "code",
   "execution_count": 26,
   "metadata": {},
   "outputs": [
    {
     "name": "stdout",
     "output_type": "stream",
     "text": [
      "A energia de ativação é:  121481.5 Joules/mol\n",
      "O fator de frequencia é: 8.0303e+16 1/s\n",
      "O Coeficiente de ajuste é: 0.99986\n"
     ]
    }
   ],
   "source": [
    "print(f'A energia de ativação é: {Ea:9.7} Joules/mol')\n",
    "print(f'O fator de frequencia é: {A:9.5} 1/s')\n",
    "print(f'O Coeficiente de ajuste é: {R2:5.5}')"
   ]
  },
  {
   "cell_type": "code",
   "execution_count": null,
   "metadata": {},
   "outputs": [],
   "source": []
  }
 ],
 "metadata": {
  "accelerator": "GPU",
  "colab": {
   "include_colab_link": true,
   "name": "Modelo de Arrhenius ajuste aos pontos experimentais de forma linear.ipynb",
   "provenance": [],
   "version": "0.3.2"
  },
  "kernelspec": {
   "display_name": "Python 3",
   "language": "python",
   "name": "python3"
  },
  "language_info": {
   "codemirror_mode": {
    "name": "ipython",
    "version": 3
   },
   "file_extension": ".py",
   "mimetype": "text/x-python",
   "name": "python",
   "nbconvert_exporter": "python",
   "pygments_lexer": "ipython3",
   "version": "3.7.6"
  }
 },
 "nbformat": 4,
 "nbformat_minor": 1
}
